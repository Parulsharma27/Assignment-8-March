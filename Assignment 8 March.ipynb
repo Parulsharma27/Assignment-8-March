{
 "cells": [
  {
   "cell_type": "code",
   "execution_count": null,
   "id": "af64cf7b-b270-424b-8c78-ad464fd87e55",
   "metadata": {},
   "outputs": [],
   "source": [
    "he probability density function (PDF) is a mathematical function used to describe the probability distribution of a continuous random variable. It specifies the relative likelihood of observing different values of the variable, and it integrates to 1 over the range of the variable.\n",
    "\n",
    "The PDF is defined such that the probability of observing a value within a certain range is given by the area under the PDF curve over that range. The PDF curve can take different shapes depending on the nature of the random variable being modeled, but it always satisfies the requirement of integrating to 1 over the variable range."
   ]
  },
  {
   "cell_type": "code",
   "execution_count": null,
   "id": "8d20ea4c-eba1-4cb0-a83b-7ab5c738f4f5",
   "metadata": {},
   "outputs": [],
   "source": [
    "here are several types of probability distributions, but some of the most common ones include:\n",
    "\n",
    "Normal distribution: Also known as the Gaussian distribution, it is a continuous probability distribution that has a bell-shaped curve. Many natural phenomena, such as height or weight, follow this distribution.\n",
    "\n",
    "Binomial distribution: A discrete probability distribution that describes the number of successes in a fixed number of independent trials with two possible outcomes, such as flipping a coin or winning a game.\n",
    "\n",
    "Poisson distribution: Another discrete probability distribution that describes the number of events that occur in a fixed interval of time or space, given the average rate of occurrence.\n",
    "\n",
    "Exponential distribution: A continuous probability distribution that describes the time between two consecutive events in a Poisson process, such as the time between two customer arrivals in a queue.\n",
    "\n",
    "Uniform distribution: A continuous probability distribution that assigns equal probability to all values within a specified range, such as a random number between 0 and 1.\n",
    "\n",
    "Gamma distribution: A continuous probability distribution that generalizes the exponential distribution to allow for a wider range of shapes and rates of decay."
   ]
  },
  {
   "cell_type": "code",
   "execution_count": 1,
   "id": "5b1141c0-7a18-4ec6-82ff-78bb1dcf8267",
   "metadata": {},
   "outputs": [
    {
     "name": "stdout",
     "output_type": "stream",
     "text": [
      "0.01752830049356854\n"
     ]
    }
   ],
   "source": [
    "import math\n",
    "def normal_pdf(x, mu, sigma):\n",
    "    return (1 / (sigma * math.sqrt(2 * math.pi))) * math.exp(-(x - mu)**2 / (2 * sigma**2))\n",
    "pdf = normal_pdf(2.5, 0, 1)\n",
    "print(pdf)"
   ]
  },
  {
   "cell_type": "code",
   "execution_count": null,
   "id": "a2830b19-f06d-43ed-b686-a2f36de92c2f",
   "metadata": {},
   "outputs": [],
   "source": [
    "The properties of a binomial distribution are:\n",
    "\n",
    "The distribution represents the number of successes in a fixed number of independent trials, where each trial has the same probability of success.\n",
    "The trials are independent, meaning that the outcome of one trial does not affect the outcome of any other trial.\n",
    "There are only two possible outcomes for each trial: success or failure.\n",
    "The probability of success is the same for each trial.\n",
    "The random variable X represents the number of successes in n trials.\n",
    "Two examples of events where the binomial distribution can be applied are:\n",
    "\n",
    "Flipping a coin: Suppose we flip a fair coin 10 times and want to know the probability of getting exactly 5 heads. Each flip is a trial with two possible outcomes (heads or tails), and the probability of getting a head is the same for each trial. The number of heads in 10 flips follows a binomial distribution.\n",
    "Quality control: A manufacturer produces light bulbs with a defect rate of 5%. A random sample of 20 bulbs is selected, and we want to know the probability that 2 or fewer bulbs in the sample are defective. Each bulb in the sample is either defective or not defective, and the probability of a bulb being defective is the same for each bulb. The number of defective bulbs in the sample follows a binomial distribution."
   ]
  },
  {
   "cell_type": "code",
   "execution_count": 3,
   "id": "6c7b096e-a61d-4079-b915-84aa90bc3197",
   "metadata": {},
   "outputs": [
    {
     "data": {
      "image/png": "[encoded data removed]",
      "text/plain": [
       "<Figure size 640x480 with 1 Axes>"
      ]
     },
     "metadata": {},
     "output_type": "display_data"
    }
   ],
   "source": [
    "import numpy as np\n",
    "import matplotlib.pyplot as plt\n",
    "\n",
    "# Set the seed to ensure reproducibility\n",
    "np.random.seed(123)\n",
    "\n",
    "# Generate random sample of size 1000 from a binomial distribution\n",
    "n = 10  # number of trials\n",
    "p = 0.4  # probability of success\n",
    "sample = np.random.binomial(n, p, size=1000)\n",
    "\n",
    "# Plot the histogram of the sample\n",
    "plt.hist(sample, bins=range(n+1), align='left', rwidth=0.8)\n",
    "plt.xlabel('Number of successes')\n",
    "plt.ylabel('Frequency')\n",
    "plt.title('Histogram of Binomial Distribution')\n",
    "plt.show()"
   ]
  },
  {
   "cell_type": "code",
   "execution_count": 1,
   "id": "39179b2b-f8c2-4905-9ef3-f61ca3a0fba2",
   "metadata": {},
   "outputs": [
    {
     "name": "stdout",
     "output_type": "stream",
     "text": [
      "0.9160820579686966\n"
     ]
    }
   ],
   "source": [
    "import math\n",
    "\n",
    "def poisson_cdf(mu, k):\n",
    "    cdf = 0.0\n",
    "    for i in range(k+1):\n",
    "        cdf += (mu ** i / math.factorial(i)) * math.exp(-mu)\n",
    "    return cdf\n",
    "print(poisson_cdf(3, 5))"
   ]
  },
  {
   "cell_type": "code",
   "execution_count": null,
   "id": "1f443937-92a7-4892-bb08-bc4371643f85",
   "metadata": {},
   "outputs": [],
   "source": [
    "Binomial distribution and Poisson distribution are both types of probability distributions, but they are used to model different types of events.\n",
    "\n",
    "Binomial distribution is used to model the number of successful outcomes in a fixed number of independent trials, where each trial has the same probability of success. The key properties of a binomial distribution are:\n",
    "\n",
    "The outcome of each trial is binary (success or failure)\n",
    "The trials are independent\n",
    "The probability of success is constant for each trial\n",
    "The number of trials is fixed\n",
    "Poisson distribution, on the other hand, is used to model the number of rare events in a fixed amount of time or space. The key properties of a Poisson distribution are:\n",
    "\n",
    "The events are rare and random\n",
    "The events occur independently of each other\n",
    "The average rate of occurrence is constant\n",
    "The probability of an event occurring in a given time interval is proportional to the length of the time interval\n",
    "In summary, the main difference between binomial and Poisson distributions is that binomial distribution models the number of successes in a fixed number of trials with a constant probability of success, while Poisson distribution models the number of rare events in a fixed amount of time or space with a constant average rate of occurrence."
   ]
  },
  {
   "cell_type": "code",
   "execution_count": 2,
   "id": "b0566369-5672-4ca3-8a31-2250e4a3404e",
   "metadata": {},
   "outputs": [
    {
     "name": "stdout",
     "output_type": "stream",
     "text": [
      "Sample mean: 5.018\n",
      "Sample variance: 4.879676\n"
     ]
    }
   ],
   "source": [
    "import numpy as np\n",
    "\n",
    "# Generate random sample of size 1000 from Poisson distribution with mean 5\n",
    "sample = np.random.poisson(5, size=1000)\n",
    "\n",
    "# Calculate sample mean and variance\n",
    "sample_mean = np.mean(sample)\n",
    "sample_var = np.var(sample)\n",
    "\n",
    "# Print sample mean and variance\n",
    "print(\"Sample mean:\", sample_mean)\n",
    "print(\"Sample variance:\", sample_var)"
   ]
  },
  {
   "cell_type": "code",
   "execution_count": null,
   "id": "8f6fb50a-22df-4b6d-baab-7094f75950b2",
   "metadata": {},
   "outputs": [],
   "source": [
    "In a binomial distribution, the mean (μ) is equal to the product of the number of trials (n) and the probability of success (p), while the variance (σ^2) is equal to the product of the number of trials (n), the probability of success (p), and the probability of failure (q=1-p):\n",
    "\n",
    "μ = np\n",
    "σ^2 = npq\n",
    "\n",
    "In a Poisson distribution, both the mean (μ) and the variance (σ^2) are equal to the lambda parameter (λ):\n",
    "\n",
    "μ = λ\n",
    "σ^2 = λ\n",
    "\n",
    "Therefore, in both distributions, the mean and variance are directly proportional to each other."
   ]
  },
  {
   "cell_type": "code",
   "execution_count": null,
   "id": "c9d9b90d-c902-4bff-badc-a625fd4ed85f",
   "metadata": {},
   "outputs": [],
   "source": []
  },
  {
   "cell_type": "code",
   "execution_count": null,
   "id": "55356b43-2591-4ae6-af3f-855a83bf3cce",
   "metadata": {},
   "outputs": [],
   "source": []
  }
 ],
 "metadata": {
  "kernelspec": {
   "display_name": "Python 3 (ipykernel)",
   "language": "python",
   "name": "python3"
  },
  "language_info": {
   "codemirror_mode": {
    "name": "ipython",
    "version": 3
   },
   "file_extension": ".py",
   "mimetype": "text/x-python",
   "name": "python",
   "nbconvert_exporter": "python",
   "pygments_lexer": "ipython3",
   "version": "3.10.8"
  }
 },
 "nbformat": 4,
 "nbformat_minor": 5
}
